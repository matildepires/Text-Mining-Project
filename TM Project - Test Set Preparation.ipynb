{
 "cells": [
  {
   "cell_type": "markdown",
   "metadata": {},
   "source": [
    "<div class=\"alert alert-block alert-warning\">\n",
    "    \n",
    "# TM Project - Test Set Preparation<a id='title'></a></b><br>\n",
    "    \n",
    "</div>\n",
    "    \n"
   ]
  },
  {
   "cell_type": "code",
   "execution_count": 1,
   "metadata": {},
   "outputs": [],
   "source": [
    "import warnings\n",
    "warnings.filterwarnings('ignore')\n",
    "\n",
    "import numpy as np\n",
    "import pandas as pd\n",
    "import re\n",
    "from sklearn.model_selection import train_test_split\n",
    "import nltk\n",
    "from nltk.corpus import stopwords\n",
    "import string \n",
    "from tqdm.notebook import tqdm\n",
    "from nltk.stem.snowball import SnowballStemmer\n",
    "from sklearn.preprocessing import LabelEncoder, OneHotEncoder\n",
    "from sklearn.metrics.pairwise import euclidean_distances, manhattan_distances, cosine_similarity\n",
    "from sklearn.metrics import jaccard_score"
   ]
  },
  {
   "cell_type": "code",
   "execution_count": 2,
   "metadata": {},
   "outputs": [],
   "source": [
    "en_fi, cs_en, en_zh, ru_en, zh_en, de_en = pd.read_csv(\"corpus/testset/en-fi/scores.csv\"), pd.read_csv(\"corpus/testset/cs-en/scores.csv\"), pd.read_csv(\"corpus/testset/en-zh/scores.csv\"), pd.read_csv(\"corpus/testset/ru-en/scores.csv\"), pd.read_csv(\"corpus/testset/zh-en/scores.csv\"), pd.read_csv(\"corpus/testset/de-en/scores.csv\")"
   ]
  },
  {
   "cell_type": "markdown",
   "metadata": {},
   "source": [
    "<div class=\"alert alert-block alert-warning\">\n",
    "\n",
    "<b> Preprocessing"
   ]
  },
  {
   "cell_type": "code",
   "execution_count": 4,
   "metadata": {},
   "outputs": [],
   "source": [
    "# For translations for English and Finnish (cs-en, ru-en, zh-en, de-en, en-fi)\n",
    "\n",
    "def preprocessing(dataframe, column, toEnglish=True, stemming=False, stopwrd=False):\n",
    "# The default is not removing stopwords or stemming, just lowercasing and removing punctuation\n",
    "\n",
    "    processed_corpus = []\n",
    "    for i in tqdm(range(len(dataframe))):\n",
    "        text = list(dataframe[column])[i]\n",
    "        \n",
    "        #Convert to lowercase\n",
    "        text = text.lower()\n",
    "        \n",
    "        # Convert to list from string\n",
    "        text = text.split()\n",
    "                \n",
    "        # Remove punctuations\n",
    "        text = [word.translate(str.maketrans('', '', string.punctuation)) for word in text]\n",
    "        \n",
    "        # Remove stopwords\n",
    "        if stopwrd:\n",
    "            # Default is English\n",
    "            if toEnglish:\n",
    "                stop_en = stopwords.words('english') \n",
    "                text = [word for word in text if word not in stop_en]\n",
    "            else:\n",
    "                stop_fi = stopwords.words('finnish') \n",
    "                text = [word for word in text if word not in stop_fi]\n",
    "\n",
    "        # Stemming\n",
    "        if stemming:\n",
    "            # Default is English\n",
    "            if toEnglish:\n",
    "                stem_en = SnowballStemmer('english')\n",
    "                text = [stem_en.stem(word) for word in text]\n",
    "            else:\n",
    "                stem_fi = SnowballStemmer('finnish')\n",
    "                text = [stem_fi.stem(word) for word in text]\n",
    "        \n",
    "        text = \" \".join(text)        \n",
    "        processed_corpus.append(text)\n",
    "    return processed_corpus"
   ]
  },
  {
   "cell_type": "code",
   "execution_count": 5,
   "metadata": {},
   "outputs": [],
   "source": [
    "# For translations for Chinese (en-zh)\n",
    "\n",
    "# !pip install jieba\n",
    "import jieba\n",
    "\n",
    "def preprocessing_chinese(dataframe, column):\n",
    "    \n",
    "    processed_corpus = []\n",
    "    no_punc=dataframe[column].str.replace(r\"[%s]+\"%punc, \"\").astype(str)\n",
    "    \n",
    "    \n",
    "    for i in tqdm(range(len(no_punc))):\n",
    "        text = no_punc[i]\n",
    "        \n",
    "        text=[word for word in jieba.cut(text)]\n",
    "        \n",
    "        text = \" \".join(text)   \n",
    "        \n",
    "        processed_corpus.append(text)\n",
    "    return processed_corpus"
   ]
  },
  {
   "cell_type": "code",
   "execution_count": 17,
   "metadata": {},
   "outputs": [
    {
     "data": {
      "text/plain": [
       "source               0\n",
       "reference            1\n",
       "translation          0\n",
       "clean_translation    0\n",
       "dtype: int64"
      ]
     },
     "execution_count": 17,
     "metadata": {},
     "output_type": "execute_result"
    }
   ],
   "source": [
    "ru_en.isna().sum() # --> row 9191"
   ]
  },
  {
   "cell_type": "code",
   "execution_count": 41,
   "metadata": {},
   "outputs": [],
   "source": [
    "ru_en.reference[9191] = 'na' #--> # Replacing null reference with the word 'na'"
   ]
  },
  {
   "cell_type": "code",
   "execution_count": 20,
   "metadata": {
    "scrolled": true
   },
   "outputs": [
    {
     "data": {
      "application/vnd.jupyter.widget-view+json": {
       "model_id": "89d98e0733d542149f55c176cfbb460f",
       "version_major": 2,
       "version_minor": 0
      },
      "text/plain": [
       "HBox(children=(FloatProgress(value=0.0, max=13157.0), HTML(value='')))"
      ]
     },
     "metadata": {},
     "output_type": "display_data"
    },
    {
     "name": "stdout",
     "output_type": "stream",
     "text": [
      "\n"
     ]
    },
    {
     "data": {
      "application/vnd.jupyter.widget-view+json": {
       "model_id": "1300395fbd114eebb3bad3d61c37d437",
       "version_major": 2,
       "version_minor": 0
      },
      "text/plain": [
       "HBox(children=(FloatProgress(value=0.0, max=13157.0), HTML(value='')))"
      ]
     },
     "metadata": {},
     "output_type": "display_data"
    },
    {
     "name": "stdout",
     "output_type": "stream",
     "text": [
      "\n"
     ]
    },
    {
     "data": {
      "application/vnd.jupyter.widget-view+json": {
       "model_id": "6d6be69001f944c19a212b9b3df10a1f",
       "version_major": 2,
       "version_minor": 0
      },
      "text/plain": [
       "HBox(children=(FloatProgress(value=0.0, max=25352.0), HTML(value='')))"
      ]
     },
     "metadata": {},
     "output_type": "display_data"
    },
    {
     "name": "stdout",
     "output_type": "stream",
     "text": [
      "\n"
     ]
    },
    {
     "data": {
      "application/vnd.jupyter.widget-view+json": {
       "model_id": "1bf3ab2c0c914482a941c38b55c7a3f2",
       "version_major": 2,
       "version_minor": 0
      },
      "text/plain": [
       "HBox(children=(FloatProgress(value=0.0, max=25352.0), HTML(value='')))"
      ]
     },
     "metadata": {},
     "output_type": "display_data"
    },
    {
     "name": "stdout",
     "output_type": "stream",
     "text": [
      "\n"
     ]
    },
    {
     "data": {
      "application/vnd.jupyter.widget-view+json": {
       "model_id": "9c13ed1dd29a47b38917ef35d88ff0c6",
       "version_major": 2,
       "version_minor": 0
      },
      "text/plain": [
       "HBox(children=(FloatProgress(value=0.0, max=28404.0), HTML(value='')))"
      ]
     },
     "metadata": {},
     "output_type": "display_data"
    },
    {
     "name": "stdout",
     "output_type": "stream",
     "text": [
      "\n"
     ]
    },
    {
     "data": {
      "application/vnd.jupyter.widget-view+json": {
       "model_id": "049e1bcfb14f4eaebed496de15af9cfc",
       "version_major": 2,
       "version_minor": 0
      },
      "text/plain": [
       "HBox(children=(FloatProgress(value=0.0, max=28404.0), HTML(value='')))"
      ]
     },
     "metadata": {},
     "output_type": "display_data"
    },
    {
     "name": "stdout",
     "output_type": "stream",
     "text": [
      "\n"
     ]
    },
    {
     "data": {
      "application/vnd.jupyter.widget-view+json": {
       "model_id": "c617b765ec554ccc92b7f5a6fcfe3cc7",
       "version_major": 2,
       "version_minor": 0
      },
      "text/plain": [
       "HBox(children=(FloatProgress(value=0.0, max=8097.0), HTML(value='')))"
      ]
     },
     "metadata": {},
     "output_type": "display_data"
    },
    {
     "name": "stdout",
     "output_type": "stream",
     "text": [
      "\n"
     ]
    },
    {
     "data": {
      "application/vnd.jupyter.widget-view+json": {
       "model_id": "1de999323afb4aacb4c2ffba406568a1",
       "version_major": 2,
       "version_minor": 0
      },
      "text/plain": [
       "HBox(children=(FloatProgress(value=0.0, max=8097.0), HTML(value='')))"
      ]
     },
     "metadata": {},
     "output_type": "display_data"
    },
    {
     "name": "stdout",
     "output_type": "stream",
     "text": [
      "\n"
     ]
    }
   ],
   "source": [
    "# Applying the preprocessing to the corpora with English and Finnish translations\n",
    "\n",
    "for i in [cs_en, ru_en, zh_en, de_en, en_fi]:\n",
    "    i['clean_translation'] = preprocessing(i, 'translation') # no punctuation and all in lower case\n",
    "    i['clean_reference']= preprocessing(i, 'reference')"
   ]
  },
  {
   "cell_type": "code",
   "execution_count": 21,
   "metadata": {},
   "outputs": [
    {
     "data": {
      "application/vnd.jupyter.widget-view+json": {
       "model_id": "13dbefec1d6f45129369244ad452ded3",
       "version_major": 2,
       "version_minor": 0
      },
      "text/plain": [
       "HBox(children=(FloatProgress(value=0.0, max=22128.0), HTML(value='')))"
      ]
     },
     "metadata": {},
     "output_type": "display_data"
    },
    {
     "name": "stdout",
     "output_type": "stream",
     "text": [
      "\n"
     ]
    },
    {
     "data": {
      "application/vnd.jupyter.widget-view+json": {
       "model_id": "8b78fc99726a47ba923ca3242c6a0b3a",
       "version_major": 2,
       "version_minor": 0
      },
      "text/plain": [
       "HBox(children=(FloatProgress(value=0.0, max=22128.0), HTML(value='')))"
      ]
     },
     "metadata": {},
     "output_type": "display_data"
    },
    {
     "name": "stdout",
     "output_type": "stream",
     "text": [
      "\n"
     ]
    }
   ],
   "source": [
    "# Applying the preprocessing to the corpus with Chinese translations\n",
    "\n",
    "en_zh['clean_reference']= preprocessing(en_zh, 'reference')\n",
    "en_zh['clean_translation']= preprocessing(en_zh, 'translation')"
   ]
  },
  {
   "cell_type": "code",
   "execution_count": 43,
   "metadata": {},
   "outputs": [],
   "source": [
    "# Replacing all empty references with the word 'na' --> some empty records found when applying TER\n",
    "ru_en.clean_reference.replace({'':'na'}, inplace=True)\n",
    "\n",
    "zh_en.clean_reference[14515]='na'\n",
    "\n",
    "en_zh.clean_reference[4406]='na'"
   ]
  },
  {
   "cell_type": "markdown",
   "metadata": {},
   "source": [
    "<div class=\"alert alert-block alert-warning\">\n",
    "\n",
    "<b> BLEU"
   ]
  },
  {
   "cell_type": "code",
   "execution_count": 26,
   "metadata": {},
   "outputs": [],
   "source": [
    "from nltk.translate.bleu_score import sentence_bleu"
   ]
  },
  {
   "cell_type": "code",
   "execution_count": 27,
   "metadata": {},
   "outputs": [],
   "source": [
    "# Applying BLEU for all language pairs\n",
    "\n",
    "for i in [en_fi, cs_en, ru_en, zh_en, de_en, en_zh]:\n",
    "    i['bleu'] = i.apply(lambda row: sentence_bleu([row['clean_reference']],row['clean_translation']), axis=1)"
   ]
  },
  {
   "cell_type": "markdown",
   "metadata": {},
   "source": [
    "<div class=\"alert alert-block alert-warning\">\n",
    "\n",
    "<b> TER"
   ]
  },
  {
   "cell_type": "code",
   "execution_count": 28,
   "metadata": {},
   "outputs": [],
   "source": [
    "import pyter"
   ]
  },
  {
   "cell_type": "code",
   "execution_count": 29,
   "metadata": {},
   "outputs": [],
   "source": [
    "def ter_sc(df, ref, trans):\n",
    "    \n",
    "    translation = df[trans].to_list()\n",
    "    reference = df[ref].to_list()\n",
    "    \n",
    "    ter = []\n",
    "\n",
    "    # This function requires the text to be split\n",
    "    for i in tqdm(range(len(translation))):\n",
    "        ter.append(pyter.ter(translation[i].split(), reference[i].split()))\n",
    "        \n",
    "    return ter"
   ]
  },
  {
   "cell_type": "code",
   "execution_count": 58,
   "metadata": {
    "scrolled": false
   },
   "outputs": [
    {
     "data": {
      "application/vnd.jupyter.widget-view+json": {
       "model_id": "ad56e29fd9fa4dc8af10175970d9c44e",
       "version_major": 2,
       "version_minor": 0
      },
      "text/plain": [
       "HBox(children=(FloatProgress(value=0.0, max=22128.0), HTML(value='')))"
      ]
     },
     "metadata": {},
     "output_type": "display_data"
    },
    {
     "name": "stdout",
     "output_type": "stream",
     "text": [
      "\n"
     ]
    }
   ],
   "source": [
    "# Applying TER for all language pairs\n",
    "for i in [en_fi, cs_en, ru_en, zh_en, de_en, en_zh]:\n",
    "    i['ter_1'] = ter_sc(i, 'clean_reference', 'clean_translation')"
   ]
  },
  {
   "cell_type": "markdown",
   "metadata": {},
   "source": [
    "<div class=\"alert alert-block alert-warning\">\n",
    "\n",
    "<b> CHRF"
   ]
  },
  {
   "cell_type": "code",
   "execution_count": 60,
   "metadata": {},
   "outputs": [],
   "source": [
    "from nltk.translate.chrf_score import sentence_chrf"
   ]
  },
  {
   "cell_type": "code",
   "execution_count": 61,
   "metadata": {},
   "outputs": [],
   "source": [
    "# Applying CHRF for all language pairs\n",
    "for i in [en_fi, cs_en, ru_en, zh_en, de_en, en_zh]:\n",
    "    i['chrf'] = i.apply(lambda row: sentence_chrf([row['clean_reference']],row['clean_translation']), axis=1)"
   ]
  },
  {
   "cell_type": "markdown",
   "metadata": {},
   "source": [
    "<div class=\"alert alert-block alert-warning\">\n",
    "\n",
    "<b> METEOR"
   ]
  },
  {
   "cell_type": "code",
   "execution_count": 62,
   "metadata": {},
   "outputs": [],
   "source": [
    "from nltk.translate import meteor_score"
   ]
  },
  {
   "cell_type": "code",
   "execution_count": 63,
   "metadata": {},
   "outputs": [],
   "source": [
    "def meteor_sc(df, ref, trans):\n",
    "    \n",
    "    translation = df[ref].to_list()\n",
    "    reference = df[trans].to_list()\n",
    "    \n",
    "    meteor = []\n",
    "\n",
    "    for i in tqdm(range(len(translation))):\n",
    "        meteor.append(meteor_score.single_meteor_score(reference[i], translation[i]))\n",
    "\n",
    "    return meteor"
   ]
  },
  {
   "cell_type": "code",
   "execution_count": 64,
   "metadata": {
    "scrolled": true
   },
   "outputs": [
    {
     "data": {
      "application/vnd.jupyter.widget-view+json": {
       "model_id": "10e5f982af7e445c998eee0d78835e31",
       "version_major": 2,
       "version_minor": 0
      },
      "text/plain": [
       "HBox(children=(FloatProgress(value=0.0, max=8097.0), HTML(value='')))"
      ]
     },
     "metadata": {},
     "output_type": "display_data"
    },
    {
     "name": "stdout",
     "output_type": "stream",
     "text": [
      "\n"
     ]
    },
    {
     "data": {
      "application/vnd.jupyter.widget-view+json": {
       "model_id": "0c8e9ad825ff42228e8f7d0c5fd58db8",
       "version_major": 2,
       "version_minor": 0
      },
      "text/plain": [
       "HBox(children=(FloatProgress(value=0.0, max=8732.0), HTML(value='')))"
      ]
     },
     "metadata": {},
     "output_type": "display_data"
    },
    {
     "name": "stdout",
     "output_type": "stream",
     "text": [
      "\n"
     ]
    },
    {
     "data": {
      "application/vnd.jupyter.widget-view+json": {
       "model_id": "d4f144cf710f49b1ab5d29a9986310aa",
       "version_major": 2,
       "version_minor": 0
      },
      "text/plain": [
       "HBox(children=(FloatProgress(value=0.0, max=13157.0), HTML(value='')))"
      ]
     },
     "metadata": {},
     "output_type": "display_data"
    },
    {
     "name": "stdout",
     "output_type": "stream",
     "text": [
      "\n"
     ]
    },
    {
     "data": {
      "application/vnd.jupyter.widget-view+json": {
       "model_id": "c6230f74861f40f5b224803c455cfaad",
       "version_major": 2,
       "version_minor": 0
      },
      "text/plain": [
       "HBox(children=(FloatProgress(value=0.0, max=25352.0), HTML(value='')))"
      ]
     },
     "metadata": {},
     "output_type": "display_data"
    },
    {
     "name": "stdout",
     "output_type": "stream",
     "text": [
      "\n"
     ]
    },
    {
     "data": {
      "application/vnd.jupyter.widget-view+json": {
       "model_id": "d217330f4d794a07b56272ec22310537",
       "version_major": 2,
       "version_minor": 0
      },
      "text/plain": [
       "HBox(children=(FloatProgress(value=0.0, max=28404.0), HTML(value='')))"
      ]
     },
     "metadata": {},
     "output_type": "display_data"
    },
    {
     "name": "stdout",
     "output_type": "stream",
     "text": [
      "\n"
     ]
    },
    {
     "data": {
      "application/vnd.jupyter.widget-view+json": {
       "model_id": "dc1ae794c5cd46909642a05f49dea6a0",
       "version_major": 2,
       "version_minor": 0
      },
      "text/plain": [
       "HBox(children=(FloatProgress(value=0.0, max=22128.0), HTML(value='')))"
      ]
     },
     "metadata": {},
     "output_type": "display_data"
    },
    {
     "name": "stdout",
     "output_type": "stream",
     "text": [
      "\n"
     ]
    }
   ],
   "source": [
    "# Applying METEOR for all language pairs\n",
    "for i in [en_fi, cs_en, ru_en, zh_en, de_en, en_zh]:\n",
    "    i['meteor'] = meteor_sc(i, \"clean_reference\", \"clean_translation\")"
   ]
  },
  {
   "cell_type": "markdown",
   "metadata": {},
   "source": [
    "<div class=\"alert alert-block alert-warning\">\n",
    "<b> GLEU"
   ]
  },
  {
   "cell_type": "code",
   "execution_count": 65,
   "metadata": {},
   "outputs": [],
   "source": [
    "import nltk.translate.gleu_score as gleu"
   ]
  },
  {
   "cell_type": "code",
   "execution_count": 66,
   "metadata": {},
   "outputs": [],
   "source": [
    "# Applying GLEU for all language pairs\n",
    "for i in [en_fi, cs_en, ru_en, zh_en, de_en, en_zh]:\n",
    "    i['gleu'] = i.apply(lambda row: gleu.sentence_gleu([row['clean_reference']],row['clean_translation']), axis=1)"
   ]
  },
  {
   "cell_type": "markdown",
   "metadata": {},
   "source": [
    "Saving into csv's the test corpora with the MT metrics scores to use feed the ensemble model"
   ]
  },
  {
   "cell_type": "code",
   "execution_count": 67,
   "metadata": {},
   "outputs": [],
   "source": [
    "en_fi.to_csv('en_fi_test.csv')\n",
    "cs_en.to_csv('cs_en_test.csv')\n",
    "ru_en.to_csv('ru_en_test.csv')\n",
    "zh_en.to_csv('zh_en_test.csv')\n",
    "en_zh.to_csv('en_zh_test.csv')\n",
    "de_en.to_csv('de_en_test.csv')"
   ]
  }
 ],
 "metadata": {
  "kernelspec": {
   "display_name": "Python 3",
   "language": "python",
   "name": "python3"
  },
  "language_info": {
   "codemirror_mode": {
    "name": "ipython",
    "version": 3
   },
   "file_extension": ".py",
   "mimetype": "text/x-python",
   "name": "python",
   "nbconvert_exporter": "python",
   "pygments_lexer": "ipython3",
   "version": "3.8.3"
  }
 },
 "nbformat": 4,
 "nbformat_minor": 4
}
